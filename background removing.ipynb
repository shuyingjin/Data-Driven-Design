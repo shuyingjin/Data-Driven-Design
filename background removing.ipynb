{
 "cells": [
  {
   "cell_type": "code",
   "execution_count": null,
   "id": "1097b987",
   "metadata": {},
   "outputs": [
    {
     "name": "stderr",
     "output_type": "stream",
     "text": [
      "Removing background: 100%|██████████| 1000/1000 [20:03<00:00,  1.20s/it]"
     ]
    },
    {
     "name": "stdout",
     "output_type": "stream",
     "text": [
      "Background removal complete!\n"
     ]
    },
    {
     "name": "stderr",
     "output_type": "stream",
     "text": [
      "\n"
     ]
    }
   ],
   "source": [
    "from rembg import remove\n",
    "from PIL import Image\n",
    "import os\n",
    "from tqdm import tqdm\n",
    "\n",
    "# 依赖：pip install rembg pillow tqdm\n",
    "\n",
    "def batch_remove_background(input_dir, output_dir):\n",
    "\n",
    "    os.makedirs(output_dir, exist_ok=True)\n",
    "\n",
    "\n",
    "    for fname in tqdm(os.listdir(input_dir), desc=\"Removing background\"):\n",
    "        if not fname.lower().endswith((\".png\", \".jpg\", \".jpeg\")):\n",
    "            continue\n",
    "\n",
    "        in_path = os.path.join(input_dir, fname)\n",
    "        out_path = os.path.join(output_dir, os.path.splitext(fname)[0] + \".png\")\n",
    "\n",
    "\n",
    "        with open(in_path, \"rb\") as f:\n",
    "            img_bytes = f.read()\n",
    "\n",
    "\n",
    "        result_bytes = remove(img_bytes)\n",
    "\n",
    "\n",
    "        with open(out_path, \"wb\") as out_f:\n",
    "            out_f.write(result_bytes)\n",
    "\n",
    "    print(\"Background removal complete!\")\n",
    "\n",
    "\n",
    "if __name__ == \"__main__\":\n",
    "    INPUT_DIR = r\"C:\\Users\\golds\\Desktop\\Data-Driven Design\\jewelry_images\\jewelry\"\n",
    "    OUTPUT_DIR = r\"C:\\Users\\golds\\Desktop\\Data-Driven Design\\jewelry_images\\jewelry_filter\"\n",
    "    batch_remove_background(INPUT_DIR, OUTPUT_DIR)\n",
    "\n"
   ]
  }
 ],
 "metadata": {
  "kernelspec": {
   "display_name": "torch_pig",
   "language": "python",
   "name": "python3"
  },
  "language_info": {
   "codemirror_mode": {
    "name": "ipython",
    "version": 3
   },
   "file_extension": ".py",
   "mimetype": "text/x-python",
   "name": "python",
   "nbconvert_exporter": "python",
   "pygments_lexer": "ipython3",
   "version": "3.11.9"
  }
 },
 "nbformat": 4,
 "nbformat_minor": 5
}
