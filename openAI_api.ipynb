{
 "cells": [
  {
   "cell_type": "code",
   "execution_count": null,
   "id": "9fd65bb4",
   "metadata": {},
   "outputs": [
    {
     "name": "stdout",
     "output_type": "stream",
     "text": [
      "测试成功，图片 URL： https://oaidalleapiprodscus.blob.core.windows.net/private/org-z91p9cEipejysTmrQafmyhxc/user-MMBvIlzJOiVGm1uBt3pawqHz/img-qGEJoy8T1ggRMaEtQm2KvvQD.png?st=2025-04-27T19%3A44%3A45Z&se=2025-04-27T21%3A44%3A45Z&sp=r&sv=2024-08-04&sr=b&rscd=inline&rsct=image/png&skoid=8b33a531-2df9-46a3-bc02-d4b1430a422c&sktid=a48cca56-e6da-484e-a814-9c849652bcb3&skt=2025-04-27T08%3A36%3A05Z&ske=2025-04-28T08%3A36%3A05Z&sks=b&skv=2024-08-04&sig=MXZij3A/Z86bBnwPhtrMokX3YTlVU6VjPwDlKY%2B/%2BSY%3D\n"
     ]
    }
   ],
   "source": [
    "import openai\n",
    "from dotenv import load_dotenv\n",
    "import os\n",
    "\n",
    "# API Key\n",
    "load_dotenv()\n",
    "openai.api_key = os.getenv(\"OPENAI_API_KEY\")\n",
    "\n",
    "# Test the API\n",
    "try:\n",
    "    resp = openai.images.generate(\n",
    "        prompt=\"A simple seamless floral icon, 256x256, line art\",\n",
    "        n=1,\n",
    "        size=\"256x256\"\n",
    "    )\n",
    "    print(\"success：\", resp.data[0].url)\n",
    "except Exception as e:\n",
    "    print(\"fail：\", e)\n"
   ]
  },
  {
   "cell_type": "code",
   "execution_count": null,
   "id": "bdb4fc8f",
   "metadata": {},
   "outputs": [
    {
     "name": "stderr",
     "output_type": "stream",
     "text": [
      "Seamless_4K_texture_PBR_of_bru: 100%|██████████| 20/20 [05:42<00:00, 17.10s/it]\n",
      "Seamless_PBR_texture_4K_of_bru: 100%|██████████| 20/20 [07:07<00:00, 21.37s/it]\n",
      "Seamless_aquamarine_4K_PBR_tex: 100%|██████████| 20/20 [06:01<00:00, 18.09s/it]\n",
      "Tileable_rose_quartz_4K_PBR_te:  10%|█         | 2/20 [00:27<04:06, 13.70s/it]"
     ]
    },
    {
     "name": "stdout",
     "output_type": "stream",
     "text": [
      "[Tileable_rose_quartz_4K_PBR_te][1] 下载失败：HTTPSConnectionPool(host='oaidalleapiprodscus.blob.core.windows.net', port=443): Max retries exceeded with url: /private/org-z91p9cEipejysTmrQafmyhxc/user-MMBvIlzJOiVGm1uBt3pawqHz/img-ZuNKCl11vju04G06I01eNWGW.png?st=2025-05-05T22%3A25%3A28Z&se=2025-05-06T00%3A25%3A28Z&sp=r&sv=2024-08-04&sr=b&rscd=inline&rsct=image/png&skoid=8b33a531-2df9-46a3-bc02-d4b1430a422c&sktid=a48cca56-e6da-484e-a814-9c849652bcb3&skt=2025-05-05T10%3A14%3A18Z&ske=2025-05-06T10%3A14%3A18Z&sks=b&skv=2024-08-04&sig=q1pIGljXfyfBrBxKoqGZG5oV4JRAXp1JV0vgEh5gdsQ%3D (Caused by SSLError(SSLEOFError(8, '[SSL: UNEXPECTED_EOF_WHILE_READING] EOF occurred in violation of protocol (_ssl.c:1006)')))\n"
     ]
    },
    {
     "name": "stderr",
     "output_type": "stream",
     "text": [
      "Tileable_rose_quartz_4K_PBR_te: 100%|██████████| 20/20 [04:51<00:00, 14.57s/it]"
     ]
    },
    {
     "name": "stdout",
     "output_type": "stream",
     "text": [
      "全部完成，图像保存在： C:\\Users\\golds\\Desktop\\Data-Driven Design\\texture\n"
     ]
    },
    {
     "name": "stderr",
     "output_type": "stream",
     "text": [
      "\n"
     ]
    }
   ],
   "source": [
    "\n",
    "# pip install openai python-dotenv requests tqdm\n",
    "\n",
    "from dotenv import load_dotenv\n",
    "import os\n",
    "import openai\n",
    "import requests\n",
    "from tqdm import tqdm\n",
    "\n",
    "# 1. read API Key\n",
    "load_dotenv()\n",
    "openai.api_key = os.getenv(\"OPENAI_API_KEY\")\n",
    "if not openai.api_key:\n",
    "    raise RuntimeError(\"未能读取到 OPENAI_API_KEY，请检查 .env 文件\")\n",
    "\n",
    "# 2. prompts\n",
    "prompts = [\n",
    "    \"Seamless 4K texture PBR of brushed yellow gold, including base color, normal, roughness, metallic, and ambient occlusion maps.\",\n",
    "    \"Seamless PBR texture 4K of brushed titanium tinted blue-gray with subtle micro‑scratches, including albedo, roughness, normal, and ambient occlusion maps.\",\n",
    "    \"Seamless aquamarine 4K PBR texture with soft blue‑green transparency, including base color, normal, roughness, transmission, and ambient occlusion maps.\",\n",
    "    \"Tileable rose quartz 4K PBR texture with clear pink translucency and minimal inclusions, outputting albedo, normal, roughness, transmission, and height maps.\"\n",
    "]\n",
    "\n",
    "# 3. output dir\n",
    "output_dir = r\"C:\\Users\\golds\\Desktop\\Data-Driven Design\\texture\"\n",
    "# 或者: output_dir = \"C:/Users/golds/Desktop/Data-Driven Design/OpenAI_dataset\"\n",
    "os.makedirs(output_dir, exist_ok=True)\n",
    "\n",
    "# 4. download images\n",
    "for prompt in prompts:\n",
    "    safe = prompt.replace(\" \", \"_\")[:30]\n",
    "    for i in tqdm(range(20), desc=safe):\n",
    "        try:\n",
    "\n",
    "            resp = openai.images.generate(prompt=prompt, n=1, size=\"512x512\")\n",
    "            url = resp.data[0].url\n",
    "\n",
    "\n",
    "            img_data = requests.get(url, timeout=10).content\n",
    "\n",
    "\n",
    "            fname = f\"{safe}_{i}.png\"\n",
    "            path = os.path.join(output_dir, fname)\n",
    "            with open(path, \"wb\") as f:\n",
    "                f.write(img_data)\n",
    "\n",
    "        except Exception as e:\n",
    "\n",
    "            print(f\"[{safe}][{i}] download error：{e}\")\n",
    "\n",
    "print(\"全部完成，图像保存在：\", output_dir)\n"
   ]
  }
 ],
 "metadata": {
  "kernelspec": {
   "display_name": "torch_pig",
   "language": "python",
   "name": "python3"
  },
  "language_info": {
   "codemirror_mode": {
    "name": "ipython",
    "version": 3
   },
   "file_extension": ".py",
   "mimetype": "text/x-python",
   "name": "python",
   "nbconvert_exporter": "python",
   "pygments_lexer": "ipython3",
   "version": "3.11.9"
  }
 },
 "nbformat": 4,
 "nbformat_minor": 5
}
