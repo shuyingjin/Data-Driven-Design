{
 "cells": [
  {
   "cell_type": "code",
   "execution_count": null,
   "id": "95dcc4e5",
   "metadata": {},
   "outputs": [
    {
     "name": "stdout",
     "output_type": "stream",
     "text": [
      "✅ 导出带平铺纹理的模型：C:\\Users\\golds\\Desktop\\Data-Driven Design\\jewelry_sphmapped_tiled.glb\n"
     ]
    }
   ],
   "source": [
    "#!/usr/bin/env python3\n",
    "import os\n",
    "import trimesh\n",
    "import numpy as np\n",
    "from PIL import Image\n",
    "\n",
    "\n",
    "\n",
    "# models（.glb/.gltf）\n",
    "input_model = r\"C:\\Users\\golds\\Desktop\\Data-Driven Design\\jewelry2.glb\"\n",
    "\n",
    "# image path\n",
    "input_texture = r\"C:\\Users\\golds\\Desktop\\Data-Driven Design\\texture\\Tileable_rose_quartz_4K_PBR_te_19.png\"\n",
    "\n",
    "# output path\n",
    "output_model = r\"C:\\Users\\golds\\Desktop\\Data-Driven Design\\jewelry_sphmapped_tiled.glb\"\n",
    "\n",
    "# scale\n",
    "tile_scale = 1.0\n",
    "\n",
    "# ==============================\n",
    "\n",
    "def main():\n",
    "    # 1. model\n",
    "    mesh = trimesh.load(input_model, force='mesh')\n",
    "\n",
    "    # 2. calculate spherical coordinates\n",
    "    verts = mesh.vertices\n",
    "    norms = verts / np.linalg.norm(verts, axis=1, keepdims=True)\n",
    "    u = 0.5 + (np.arctan2(norms[:, 2], norms[:, 0]) / (2 * np.pi))\n",
    "    v = 0.5 - (np.arcsin(norms[:, 1]) / np.pi)\n",
    "\n",
    "    # 3. shift and tile the UV coordinates\n",
    "    u_tiled = np.mod(u * tile_scale, 1.0)\n",
    "    v_tiled = np.mod(v * tile_scale, 1.0)\n",
    "    mesh.visual.uv = np.column_stack((u_tiled, v_tiled))\n",
    "\n",
    "    # 4. load the texture image\n",
    "    img = Image.open(input_texture).convert(\"RGBA\")\n",
    "    mesh.visual = trimesh.visual.texture.TextureVisuals(\n",
    "        uv=mesh.visual.uv,\n",
    "        image=img\n",
    "    )\n",
    "\n",
    "    # 5. GLB export\n",
    "    # if not os.path.exists(input_model):\n",
    "    os.makedirs(os.path.dirname(output_model), exist_ok=True)\n",
    "    mesh.export(output_model)\n",
    "\n",
    "    print(f\"✅ load model with texture：{output_model}\")\n",
    "\n",
    "if __name__ == \"__main__\":\n",
    "    main()\n"
   ]
  }
 ],
 "metadata": {
  "kernelspec": {
   "display_name": "torch_pig",
   "language": "python",
   "name": "python3"
  },
  "language_info": {
   "codemirror_mode": {
    "name": "ipython",
    "version": 3
   },
   "file_extension": ".py",
   "mimetype": "text/x-python",
   "name": "python",
   "nbconvert_exporter": "python",
   "pygments_lexer": "ipython3",
   "version": "3.11.9"
  }
 },
 "nbformat": 4,
 "nbformat_minor": 5
}
